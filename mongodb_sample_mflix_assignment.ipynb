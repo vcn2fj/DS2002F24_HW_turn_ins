{
  "cells": [
    {
      "cell_type": "code",
      "source": [
        "# !pip install --upgrade pymongo certifi"
      ],
      "metadata": {
        "colab": {
          "base_uri": "https://localhost:8080/"
        },
        "id": "f7PS8osfnwVQ",
        "outputId": "e83cdb24-20fb-4053-d9e7-6cdf17be54a9"
      },
      "id": "f7PS8osfnwVQ",
      "execution_count": 1,
      "outputs": [
        {
          "output_type": "stream",
          "name": "stdout",
          "text": [
            "Collecting pymongo\n",
            "  Downloading pymongo-4.10.1-cp310-cp310-manylinux_2_17_x86_64.manylinux2014_x86_64.whl.metadata (22 kB)\n",
            "Requirement already satisfied: certifi in /usr/local/lib/python3.10/dist-packages (2024.8.30)\n",
            "Collecting dnspython<3.0.0,>=1.16.0 (from pymongo)\n",
            "  Downloading dnspython-2.6.1-py3-none-any.whl.metadata (5.8 kB)\n",
            "Downloading pymongo-4.10.1-cp310-cp310-manylinux_2_17_x86_64.manylinux2014_x86_64.whl (1.4 MB)\n",
            "\u001b[2K   \u001b[90m━━━━━━━━━━━━━━━━━━━━━━━━━━━━━━━━━━━━━━━━\u001b[0m \u001b[32m1.4/1.4 MB\u001b[0m \u001b[31m30.3 MB/s\u001b[0m eta \u001b[36m0:00:00\u001b[0m\n",
            "\u001b[?25hDownloading dnspython-2.6.1-py3-none-any.whl (307 kB)\n",
            "\u001b[2K   \u001b[90m━━━━━━━━━━━━━━━━━━━━━━━━━━━━━━━━━━━━━━━━\u001b[0m \u001b[32m307.7/307.7 kB\u001b[0m \u001b[31m12.9 MB/s\u001b[0m eta \u001b[36m0:00:00\u001b[0m\n",
            "\u001b[?25hInstalling collected packages: dnspython, pymongo\n",
            "Successfully installed dnspython-2.6.1 pymongo-4.10.1\n"
          ]
        }
      ]
    },
    {
      "cell_type": "code",
      "execution_count": 2,
      "id": "6f171dcd",
      "metadata": {
        "id": "6f171dcd"
      },
      "outputs": [],
      "source": [
        "\n",
        "# Install pymongo for MongoDB connection\n",
        "\n",
        "\n",
        "# Import necessary libraries\n",
        "from pymongo import MongoClient\n",
        "import pprint\n",
        "\n",
        "# Replace with your MongoDB Atlas connection string\n",
        "connection_string = \"mongodb+srv://vcn2fj:PW@cluster0.p2tka.mongodb.net/?retryWrites=true&w=majority&appName=Cluster0\"\n",
        "\n",
        "# Connect to MongoDB Atlas\n",
        "client = MongoClient(connection_string)\n",
        "\n",
        "# Access the sample_mflix database and the movies collection\n",
        "db = client['sample_mflix']\n",
        "collection = db['movies']\n"
      ]
    },
    {
      "cell_type": "code",
      "source": [
        "# Excercise 1\n",
        "action_movie = collection.find_one({\"genres\": \"Action\"})\n",
        "movies_after_2000 = collection.find({\"year\": {\"$gt\": 2000}}).limit(5)\n",
        "high_rated_movies = collection.find({\"imdb.rating\": {\"$gt\": 8.5}}).limit(5)\n",
        "action_adventure_movies = collection.find({\"genres\": {\"$all\": [\"Action\",\n",
        "\"Adventure\"]}}).limit(5)\n",
        "print(\"1. First movie with genre Action: \"+action_movie['title'])\n",
        "print(\"2. First five movies released after the year 2000:\")\n",
        "for movie in movies_after_2000:\n",
        "    print(\"- \" + movie['title'])\n",
        "print(\"3. First five movies where IMDB rating greater than 8.5:\")\n",
        "for movie in high_rated_movies:\n",
        "    print(\"- \" + movie['title'])\n",
        "print(\"4. First five movies where genre contains Action and Adventure:\")\n",
        "for movie in action_adventure_movies:\n",
        "    print(\"- \" + movie['title'])"
      ],
      "metadata": {
        "colab": {
          "base_uri": "https://localhost:8080/"
        },
        "id": "PHNcN5nZaSYD",
        "outputId": "d25afd49-a777-462a-cd05-91a790a8e9d4"
      },
      "id": "PHNcN5nZaSYD",
      "execution_count": 14,
      "outputs": [
        {
          "output_type": "stream",
          "name": "stdout",
          "text": [
            "1. First movie with genre Action: The Black Pirate\n",
            "2. First five movies released after the year 2000:\n",
            "- Kate & Leopold\n",
            "- Glitter\n",
            "- Kate & Leopold\n",
            "- From Hell\n",
            "- The Lord of the Rings: The Fellowship of the Ring\n",
            "3. First five movies where IMDB rating greater than 8.5:\n",
            "- City Lights\n",
            "- Modern Times\n",
            "- Casablanca\n",
            "- Rear Window\n",
            "- It's a Wonderful Life\n",
            "4. First five movies where genre contains Action and Adventure:\n",
            "- The Black Pirate\n",
            "- Tarzan the Ape Man\n",
            "- Beau Geste\n",
            "- The Mark of Zorro\n",
            "- The Adventures of Robin Hood\n"
          ]
        }
      ]
    },
    {
      "cell_type": "code",
      "source": [
        "# Exercise 2\n",
        "sorted_comedy_movies = collection.find({\"genres\": \"Comedy\"}).sort(\"imdb.rating\", -1).limit(5)\n",
        "sorted_drama_movies = collection.find({\"genres\": \"Drama\"}).sort(\"year\", 1).limit(5)\n",
        "print(\"1. First five movies where genre contains comedy (descending):\")\n",
        "for movie in sorted_comedy_movies:\n",
        "    print(\"- \" + movie['title'])\n",
        "print(\"2. First five movies where genre contains drama (descending):\")\n",
        "for movie in sorted_drama_movies:\n",
        "    print(\"- \" + movie['title'])"
      ],
      "metadata": {
        "colab": {
          "base_uri": "https://localhost:8080/"
        },
        "id": "vdVQLf3RcbsA",
        "outputId": "09d368b3-ff34-43d8-9eca-8cfae9018961"
      },
      "id": "vdVQLf3RcbsA",
      "execution_count": 18,
      "outputs": [
        {
          "output_type": "stream",
          "name": "stdout",
          "text": [
            "1. First five movies where genre contains comedy (descending):\n",
            "- The Chaos Class Failed the Class\n",
            "- Heart of a Dog\n",
            "- The Marathon Family\n",
            "- Balkan Spy\n",
            "- Who's Singin' Over There?\n",
            "2. First five movies where genre contains drama (descending):\n",
            "- A Corner in Wheat\n",
            "- Traffic in Souls\n",
            "- In the Land of the Head Hunters\n",
            "- The Italian\n",
            "- Regeneration\n"
          ]
        }
      ]
    },
    {
      "cell_type": "code",
      "source": [
        "# Exercise 3\n",
        "avg_rating_by_genre = collection.aggregate([\n",
        "{\"$unwind\": \"$genres\"},\n",
        "{\"$group\": {\"_id\": \"$genres\", \"avg_rating\": {\"$avg\": \"$imdb.rating\"}}},\n",
        "{\"$sort\": {\"avg_rating\": -1}},\n",
        "{\"$limit\": 5}\n",
        "])\n",
        "top_directors = collection.aggregate([\n",
        "{\"$group\": {\"_id\": \"$directors\", \"avg_rating\": {\"$avg\": \"$imdb.rating\"}}},\n",
        "{\"$sort\": {\"avg_rating\": -1}},\n",
        "{\"$limit\": 5}\n",
        "])\n",
        "movies_per_year = collection.aggregate([\n",
        "{\"$group\": {\"_id\": \"$year\", \"total_movies\": {\"$sum\": 1}}},\n",
        "{\"$sort\": {\"_id\": 1}},\n",
        "{\"$limit\": 5}\n",
        "])\n",
        "\n",
        "print(\"Average rating by genre:\")\n",
        "for genre in avg_rating_by_genre:\n",
        "    print(f\"Genre: {genre['_id']}, Average Rating: {genre['avg_rating']:.2f}\")\n",
        "\n",
        "print(\"\\nTop directors by average rating:\")\n",
        "for director in top_directors:\n",
        "    print(f\"Director: {director['_id']}, Average Rating: {director['avg_rating']:.2f}\")\n",
        "print(\"\")\n",
        "print(\"Total movies per year (limited to 5 years):\")\n",
        "for year in movies_per_year:\n",
        "    print(f\"Year: {year['_id']}, Total Movies: {year['total_movies']}\")"
      ],
      "metadata": {
        "colab": {
          "base_uri": "https://localhost:8080/"
        },
        "id": "pEu3JonCcrFn",
        "outputId": "3ba1c2a4-d511-4a87-ffd1-326fcfb915a7"
      },
      "id": "pEu3JonCcrFn",
      "execution_count": 29,
      "outputs": [
        {
          "output_type": "stream",
          "name": "stdout",
          "text": [
            "Average rating by genre:\n",
            "Genre: Documentary, Average Rating: 7.50\n",
            "Genre: Film-Noir, Average Rating: 7.40\n",
            "Genre: Short, Average Rating: 7.38\n",
            "Genre: War, Average Rating: 7.27\n",
            "Genre: History, Average Rating: 7.26\n",
            "\n",
            "Top directors by average rating:\n",
            "Director: ['Michael Benson'], Average Rating: 9.00\n",
            "Director: ['Slobodan Sijan'], Average Rating: 8.95\n",
            "Director: ['Dusan Kovacevic', \"Bozidar 'Bota' Nikolic\"], Average Rating: 8.90\n",
            "Director: ['Nesli èèlgeèen'], Average Rating: 8.80\n",
            "Director: ['Rezo Chkheidze'], Average Rating: 8.75\n",
            "\n",
            "Total movies per year (limited to 5 years):\n",
            "Year: 1896, Total Movies: 2\n",
            "Year: 1903, Total Movies: 1\n",
            "Year: 1909, Total Movies: 1\n",
            "Year: 1911, Total Movies: 2\n",
            "Year: 1913, Total Movies: 1\n"
          ]
        }
      ]
    },
    {
      "cell_type": "code",
      "source": [
        "# Exercise 4\n",
        "collection.update_one({\"title\": \"The Godfather\"}, {\"$set\": {\"imdb.rating\": 9.5}})\n",
        "collection.update_many({\"genres\": \"Horror\", \"imdb.rating\": {\"$exists\": False}}, {\"$set\":\n",
        "{\"imdb.rating\": 6.0}})\n",
        "collection.delete_many({\"year\": {\"$lt\": 1950}})"
      ],
      "metadata": {
        "colab": {
          "base_uri": "https://localhost:8080/"
        },
        "id": "d_Pz588RdJWJ",
        "outputId": "d9c64156-14f8-4ba8-b740-8935a33cd3e3"
      },
      "id": "d_Pz588RdJWJ",
      "execution_count": 30,
      "outputs": [
        {
          "output_type": "execute_result",
          "data": {
            "text/plain": [
              "DeleteResult({'n': 639, 'electionId': ObjectId('7fffffff000000000000011e'), 'opTime': {'ts': Timestamp(1728061235, 656), 't': 286}, 'ok': 1.0, '$clusterTime': {'clusterTime': Timestamp(1728061235, 665), 'signature': {'hash': b'9?\\xf9k3\\xcf\\xf0!\\xde\\xac9\\xa4\\xa3\\xbd\\xe7r\\xb1\\xe6?b', 'keyId': 7363326094432272385}}, 'operationTime': Timestamp(1728061235, 656)}, acknowledged=True)"
            ]
          },
          "metadata": {},
          "execution_count": 30
        }
      ]
    },
    {
      "cell_type": "code",
      "source": [
        "# Exercise 5\n",
        "# Create a text index on the title field\n",
        "collection.create_index([(\"title\", \"text\")])\n",
        "# Find movies with 'love' in the title\n",
        "love_movies = collection.find({\"$text\": {\"$search\": \"love\"}})\n",
        "# Text search across title and plot, sorted by IMDb rating\n",
        "collection.drop_index(\"title_text\")\n",
        "collection.create_index([(\"title\", \"text\"), (\"plot\", \"text\")])\n",
        "war_movies = collection.find({\"$text\": {\"$search\": \"war\"}}).sort(\"imdb.rating\", -\n",
        "1).limit(5)"
      ],
      "metadata": {
        "id": "xm2sfhXeed8g"
      },
      "id": "xm2sfhXeed8g",
      "execution_count": 32,
      "outputs": []
    },
    {
      "cell_type": "code",
      "source": [
        "# Exercise 6\n",
        "action_high_rated_movies = collection.find({\"genres\": \"Action\", \"imdb.rating\": {\"$gt\":\n",
        "8}}).sort(\"year\", -1)\n",
        "nolan_movies = collection.find({\"directors\": \"Christopher Nolan\", \"imdb.rating\": {\"$gt\":\n",
        "8}}).sort(\"imdb.rating\", -1).limit(3)"
      ],
      "metadata": {
        "id": "7MixHT8MeiFj"
      },
      "id": "7MixHT8MeiFj",
      "execution_count": 33,
      "outputs": []
    },
    {
      "cell_type": "code",
      "source": [],
      "metadata": {
        "id": "ynMho0HcgYcJ"
      },
      "id": "ynMho0HcgYcJ",
      "execution_count": null,
      "outputs": []
    }
  ],
  "metadata": {
    "colab": {
      "provenance": []
    },
    "language_info": {
      "name": "python"
    },
    "kernelspec": {
      "name": "python3",
      "display_name": "Python 3"
    }
  },
  "nbformat": 4,
  "nbformat_minor": 5
}